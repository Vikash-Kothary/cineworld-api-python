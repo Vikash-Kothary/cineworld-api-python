{
 "cells": [
  {
   "cell_type": "markdown",
   "metadata": {},
   "source": [
    "# Ticket drop checker"
   ]
  },
  {
   "cell_type": "code",
   "execution_count": 1,
   "metadata": {},
   "outputs": [
    {
     "name": "stdout",
     "output_type": "stream",
     "text": [
      "/Users/vikash/Programming/vikash-kothary/cineworld-api-python\n"
     ]
    }
   ],
   "source": [
    "cd .."
   ]
  },
  {
   "cell_type": "code",
   "execution_count": 2,
   "metadata": {},
   "outputs": [],
   "source": [
    "import random\n",
    "import time\n",
    "import datetime\n",
    "import webbrowser\n",
    "import cineworld_api"
   ]
  },
  {
   "cell_type": "code",
   "execution_count": 3,
   "metadata": {},
   "outputs": [],
   "source": [
    "cineworld = cineworld_api.Client()"
   ]
  },
  {
   "cell_type": "code",
   "execution_count": 4,
   "metadata": {},
   "outputs": [
    {
     "data": {
      "text/plain": [
       "'8052'"
      ]
     },
     "execution_count": 4,
     "metadata": {},
     "output_type": "execute_result"
    }
   ],
   "source": [
    "# Find cinema id\n",
    "cinema_id = cineworld.search_cinemas_by_name('o2')['id']\n",
    "cinema_id"
   ]
  },
  {
   "cell_type": "code",
   "execution_count": 5,
   "metadata": {},
   "outputs": [],
   "source": [
    "booking_link = f'https://www.cineworld.co.uk/#/buy-tickets-by-cinema?in-cinema={cinema_id}'"
   ]
  },
  {
   "cell_type": "code",
   "execution_count": 9,
   "metadata": {},
   "outputs": [],
   "source": [
    "cinema_dates = cineworld.get_dates(cinema_id)['dates'][0]"
   ]
  },
  {
   "cell_type": "code",
   "execution_count": 10,
   "metadata": {},
   "outputs": [
    {
     "name": "stdout",
     "output_type": "stream",
     "text": [
      "Tickets dropped https://www.cineworld.co.uk/#/buy-tickets-by-cinema?in-cinema=8052&at=2019-04-25\n"
     ]
    }
   ],
   "source": [
    "# Find cinema date\n",
    "while(True):\n",
    "    new_cinema_dates = cineworld.get_dates(cinema_id)['dates']\n",
    "    if(len(new_cinema_dates)>19):\n",
    "        new_dates = list(set(new_cinema_dates) - set(cinema_dates))\n",
    "        if (len(new_dates)>0):\n",
    "            new_tickets_date = new_dates[0]\n",
    "            booking_link+=f'&at={new_tickets_date}'\n",
    "            print(f'Tickets dropped {booking_link}')\n",
    "            break\n",
    "    now = datetime.datetime.now().time().strftime('%H:%M:%S')    \n",
    "    print(f'Still waiting {now}, last date {new_cinema_dates[-2]}')\n",
    "    wait = random.randint(0,120)\n",
    "    time.sleep(wait)\n"
   ]
  },
  {
   "cell_type": "code",
   "execution_count": 13,
   "metadata": {},
   "outputs": [],
   "source": [
    "# Find cinema movie id\n",
    "movie_id = cineworld.search_movies_by_name(cinema_id, cinema_date, 'endgame') or cineworld.search_movies_by_name(cinema_id, cinema_date, 'avengers')\n",
    "if movie_id is not None:\n",
    "    booking_link+=f'&for-movie={movie_id}'\n",
    "    print(f'Booking link {booking_link}')"
   ]
  },
  {
   "cell_type": "code",
   "execution_count": 12,
   "metadata": {},
   "outputs": [
    {
     "name": "stdout",
     "output_type": "stream",
     "text": [
      "https://booking.cineworld.co.uk/booking/8052/125856/3ad8ae904ca311e9a749f597bbc4b786/tickets\n"
     ]
    }
   ],
   "source": [
    "print(f'https://booking.cineworld.co.uk/booking/{cinema_id}/125856/3ad8ae904ca311e9a749f597bbc4b786/tickets')"
   ]
  },
  {
   "cell_type": "code",
   "execution_count": 14,
   "metadata": {},
   "outputs": [
    {
     "data": {
      "text/plain": [
       "True"
      ]
     },
     "execution_count": 14,
     "metadata": {},
     "output_type": "execute_result"
    }
   ],
   "source": [
    "webbrowser.open(booking_link)"
   ]
  },
  {
   "cell_type": "code",
   "execution_count": null,
   "metadata": {},
   "outputs": [],
   "source": [
    "for movie in schedule:\n",
    "    i=0\n",
    "    for showtime in movies['events']:\n",
    "        if movie['id'] == showtime['filmId']:\n",
    "            showtime_model = {\n",
    "                'show_no': i,\n",
    "                'datetime': showtime['eventDateTime'],\n",
    "                'show_type': showtime['attributeIds']\n",
    "            }\n",
    "            i+=1\n",
    "            if showtime['soldOut']:\n",
    "                showtime_model['soldOut'] = True\n",
    "            movie.setdefault(\"showtimes\", []).append(showtime_model)\n",
    "        pprint(showtime)"
   ]
  },
  {
   "cell_type": "code",
   "execution_count": null,
   "metadata": {},
   "outputs": [],
   "source": []
  }
 ],
 "metadata": {
  "kernelspec": {
   "display_name": "Python 3",
   "language": "python",
   "name": "python3"
  },
  "language_info": {
   "codemirror_mode": {
    "name": "ipython",
    "version": 3
   },
   "file_extension": ".py",
   "mimetype": "text/x-python",
   "name": "python",
   "nbconvert_exporter": "python",
   "pygments_lexer": "ipython3",
   "version": "3.7.2"
  }
 },
 "nbformat": 4,
 "nbformat_minor": 2
}
