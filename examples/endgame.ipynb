{
 "cells": [
  {
   "cell_type": "markdown",
   "metadata": {},
   "source": [
    "# Endgame Checker"
   ]
  },
  {
   "cell_type": "markdown",
   "metadata": {},
   "source": [
    "> Book 6 Adult tickets and 4 unlimted tickets"
   ]
  },
  {
   "cell_type": "code",
   "execution_count": 1,
   "metadata": {},
   "outputs": [],
   "source": [
    "#!/usr/bin/env python3.6\n",
    "import requests\n",
    "import time\n",
    "import webbrowser\n",
    "import random\n",
    "import datetime"
   ]
  },
  {
   "cell_type": "code",
   "execution_count": 2,
   "metadata": {},
   "outputs": [],
   "source": [
    "#Mar14 = 42"
   ]
  },
  {
   "cell_type": "code",
   "execution_count": 3,
   "metadata": {},
   "outputs": [],
   "source": [
    "def check_endgame():\n",
    "    while(True):\n",
    "        result = requests.get(\"https://www.cineworld.co.uk/api/quickbook/films?key=qUnEyRXt&full=true&cinema=79&date=20190424\").json()\n",
    "        if len(result[\"films\"]) > 0:\n",
    "            print(\"--------------------------------------------------------------\")\n",
    "            print(\"https://www.cineworld.co.uk/#/buy-tickets-by-cinema?in-cinema=8052&at=2019-04-24\")\n",
    "            print(\"--------------------------------------------------------------\")\n",
    "            webbrowser.open('https://www.cineworld.co.uk/#/buy-tickets-by-cinema?in-cinema=8052&at=2019-04-25')\n",
    "            break\n",
    "        result = requests.get(\"https://www.cineworld.co.uk/api/quickbook/films?key=qUnEyRXt&full=true&cinema=79&date=20190425\").json()\n",
    "        if len(result[\"films\"]) > 0:\n",
    "            print(\"--------------------------------------------------------------\")\n",
    "            print(\"https://www.cineworld.co.uk/#/buy-tickets-by-cinema?in-cinema=8052&at=2019-04-25\")\n",
    "            print(\"--------------------------------------------------------------\")\n",
    "            webbrowser.open('https://www.cineworld.co.uk/#/buy-tickets-by-cinema?in-cinema=8052&at=2019-04-25')\n",
    "            break\n",
    "        result = requests.get(\"https://www.cineworld.co.uk/api/quickbook/films?key=qUnEyRXt&full=true&cinema=79&date=20190426\").json()\n",
    "        if len(result[\"films\"]) > 0:\n",
    "            print(\"--------------------------------------------------------------\")\n",
    "            print(\"https://www.cineworld.co.uk/#/buy-tickets-by-cinema?in-cinema=8052&at=2019-04-26\")\n",
    "            print(\"--------------------------------------------------------------\")\n",
    "            webbrowser.open('https://www.cineworld.co.uk/#/buy-tickets-by-cinema?in-cinema=8052&at=2019-04-25')\n",
    "            break\n",
    "        else:\n",
    "            print(f\"X -- {datetime.datetime.now().time()}\")\n",
    "            wait = random.randint(0,178)\n",
    "            time.sleep(wait)\n"
   ]
  },
  {
   "cell_type": "code",
   "execution_count": 4,
   "metadata": {},
   "outputs": [
    {
     "name": "stdout",
     "output_type": "stream",
     "text": [
      "--------------------------------------------------------------\n",
      "https://www.cineworld.co.uk/#/buy-tickets-by-cinema?in-cinema=8052&at=2019-04-24\n",
      "--------------------------------------------------------------\n"
     ]
    }
   ],
   "source": [
    "check_endgame()"
   ]
  },
  {
   "cell_type": "code",
   "execution_count": null,
   "metadata": {},
   "outputs": [],
   "source": []
  }
 ],
 "metadata": {
  "kernelspec": {
   "display_name": "Python 3",
   "language": "python",
   "name": "python3"
  },
  "language_info": {
   "codemirror_mode": {
    "name": "ipython",
    "version": 3
   },
   "file_extension": ".py",
   "mimetype": "text/x-python",
   "name": "python",
   "nbconvert_exporter": "python",
   "pygments_lexer": "ipython3",
   "version": "3.7.2"
  }
 },
 "nbformat": 4,
 "nbformat_minor": 2
}
